{
 "cells": [
  {
   "cell_type": "code",
   "execution_count": 1,
   "id": "fb551610",
   "metadata": {},
   "outputs": [
    {
     "name": "stdout",
     "output_type": "stream",
     "text": [
      "Requirement already satisfied: pysam in ./jupyterenv/lib/python3.6/site-packages (0.19.0)\r\n"
     ]
    }
   ],
   "source": [
    "!pip3 install pysam"
   ]
  },
  {
   "cell_type": "code",
   "execution_count": 2,
   "id": "c92ea8f9",
   "metadata": {},
   "outputs": [],
   "source": [
    "import pysam as ps"
   ]
  },
  {
   "cell_type": "code",
   "execution_count": 3,
   "id": "36092328",
   "metadata": {},
   "outputs": [],
   "source": [
    "import json"
   ]
  },
  {
   "cell_type": "code",
   "execution_count": 4,
   "id": "a648fefe",
   "metadata": {},
   "outputs": [
    {
     "name": "stdout",
     "output_type": "stream",
     "text": [
      "{\n",
      "  \"name\": \"C0HVYACXX120402:7:1207:5722:57044\",\n",
      "  \"flag\": \"1187\",\n",
      "  \"ref_name\": \"21\",\n",
      "  \"ref_pos\": \"9483249\",\n",
      "  \"map_quality\": \"27\",\n",
      "  \"cigar\": \"76M\",\n",
      "  \"next_ref_name\": \"=\",\n",
      "  \"next_ref_pos\": \"9483382\",\n",
      "  \"length\": \"209\",\n",
      "  \"seq\": \"TTTTCAAACAGTATCTATGCCTGCCAAATGTGAACATATAAAAAAAAACCAGAATGTGCCATTCTGATTTAAACTG\",\n",
      "  \"qual\": \"==<>@?@@>@D?>@C?>8JA5?>CC>?@???BB;H-:4A?D=DB8BDE?GBJCD@B8??E<A>CDJB@B>AA@@@C\",\n",
      "  \"tags\": [\n",
      "    \"XA:Z:GL000217.1,-110754,76M,1;\",\n",
      "    \"BD:Z:NNNNNNNNNNNNNNNNNNNNNNNNNNNNNNNNNNNNNNNNNNNNNNNNNNNNNNNNNNNNNNNNNNNNNNNNNNNN\",\n",
      "    \"MD:Z:76\",\n",
      "    \"RG:Z:1\",\n",
      "    \"BI:Z:NNNNNNNNNNNNNNNNNNNNNNNNNNNNNNNNNNNNNNNNNNNNNNNNNNNNNNNNNNNNNNNNNNNNNNNNNNNN\",\n",
      "    \"NM:i:0\",\n",
      "    \"MQ:i:27\",\n",
      "    \"AS:i:76\",\n",
      "    \"XS:i:71\"\n",
      "  ]\n",
      "}\n"
     ]
    }
   ],
   "source": [
    "alignmentFile = ps.AlignmentFile(\"merged-tumor.bam\", \"rb\")\n",
    "for read in alignmentFile:\n",
    "    print(json.dumps(read.to_dict(), indent = 2))\n",
    "    break"
   ]
  },
  {
   "cell_type": "code",
   "execution_count": 5,
   "id": "3e1eaba1",
   "metadata": {
    "scrolled": true
   },
   "outputs": [
    {
     "name": "stdout",
     "output_type": "stream",
     "text": [
      "163\n",
      "99\n",
      "99\n",
      "99\n",
      "163\n",
      "99\n",
      "1123\n",
      "99\n",
      "1123\n",
      "99\n",
      "163\n",
      "1187\n",
      "163\n",
      "147\n",
      "163\n",
      "163\n",
      "163\n",
      "163\n",
      "163\n",
      "99\n",
      "163\n",
      "99\n",
      "99\n",
      "99\n",
      "99\n",
      "99\n",
      "163\n",
      "99\n",
      "163\n",
      "99\n",
      "163\n",
      "121\n",
      "99\n",
      "99\n",
      "163\n",
      "83\n",
      "99\n",
      "99\n",
      "97\n",
      "163\n",
      "99\n",
      "163\n",
      "163\n",
      "99\n",
      "99\n",
      "1123\n",
      "99\n",
      "99\n",
      "147\n",
      "99\n",
      "163\n",
      "99\n",
      "83\n",
      "99\n",
      "147\n",
      "163\n",
      "147\n",
      "99\n",
      "147\n",
      "99\n",
      "99\n",
      "99\n",
      "99\n",
      "163\n",
      "147\n",
      "163\n",
      "83\n",
      "147\n",
      "147\n",
      "147\n",
      "83\n",
      "147\n",
      "83\n",
      "99\n",
      "65\n",
      "99\n",
      "83\n",
      "99\n",
      "147\n",
      "83\n",
      "163\n",
      "99\n",
      "99\n",
      "99\n",
      "99\n",
      "147\n",
      "83\n",
      "147\n",
      "99\n",
      "147\n",
      "147\n",
      "99\n",
      "147\n",
      "99\n",
      "99\n",
      "83\n",
      "147\n",
      "147\n",
      "147\n",
      "147\n"
     ]
    }
   ],
   "source": [
    "counter = 100\n",
    "for read in alignmentFile:\n",
    "    print(read.flag)\n",
    "    counter -= 1\n",
    "    if counter == 0:\n",
    "        break\n",
    "\n",
    "alignmentFile.close()"
   ]
  },
  {
   "cell_type": "code",
   "execution_count": 6,
   "id": "452ef332",
   "metadata": {},
   "outputs": [
    {
     "name": "stdout",
     "output_type": "stream",
     "text": [
      "Number of unmapped reads: 17765\n",
      "Total number of reads: 2921629\n",
      "Number of reads with mapping quality of zero: 126628\n",
      "Average mapping quality for all reads: 55.91379158681681\n",
      "Average mapping quality for non zero quality reads: 58.446975510921106\n"
     ]
    }
   ],
   "source": [
    "totalNumberOfReads = 0\n",
    "numberOfUnmappedReads = 0\n",
    "numberOfReadsWithZeroQuality = 0\n",
    "totalMapQuality = 0\n",
    "\n",
    "alignmentFileForCalculation = ps.AlignmentFile(\"merged-tumor.bam\", \"rb\")\n",
    "\n",
    "for read in alignmentFileForCalculation:\n",
    "    totalNumberOfReads += 1\n",
    "    if read.is_unmapped:\n",
    "        numberOfUnmappedReads += 1\n",
    "    if read.mapping_quality == 0:\n",
    "        numberOfReadsWithZeroQuality += 1\n",
    "    totalMapQuality += read.mapping_quality\n",
    "\n",
    "averageQualityForAll = totalMapQuality/totalNumberOfReads\n",
    "averageQualityWithoutZeroQuality = totalMapQuality/(totalNumberOfReads - numberOfReadsWithZeroQuality)\n",
    "\n",
    "print(\"Number of unmapped reads: \" + str(numberOfUnmappedReads))\n",
    "print(\"Total number of reads: \" + str(totalNumberOfReads))\n",
    "print(\"Number of reads with mapping quality of zero: \" + str(numberOfReadsWithZeroQuality))\n",
    "print(\"Average mapping quality for all reads: \" + str(averageQualityForAll))\n",
    "print(\"Average mapping quality for non zero quality reads: \" + str(averageQualityWithoutZeroQuality))\n",
    "\n",
    "alignmentFileForCalculation.close()"
   ]
  }
 ],
 "metadata": {
  "kernelspec": {
   "display_name": "Python 3",
   "language": "python",
   "name": "python3"
  },
  "language_info": {
   "codemirror_mode": {
    "name": "ipython",
    "version": 3
   },
   "file_extension": ".py",
   "mimetype": "text/x-python",
   "name": "python",
   "nbconvert_exporter": "python",
   "pygments_lexer": "ipython3",
   "version": "3.6.9"
  }
 },
 "nbformat": 4,
 "nbformat_minor": 5
}
